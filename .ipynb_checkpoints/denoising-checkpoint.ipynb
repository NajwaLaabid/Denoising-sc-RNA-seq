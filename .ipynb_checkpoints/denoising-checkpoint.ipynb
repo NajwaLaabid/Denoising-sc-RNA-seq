{
 "cells": [
  {
   "cell_type": "code",
   "execution_count": 2,
   "metadata": {},
   "outputs": [],
   "source": [
    "# !pip install rpy2"
   ]
  },
  {
   "cell_type": "code",
   "execution_count": 3,
   "metadata": {},
   "outputs": [],
   "source": [
    "%load_ext rpy2.ipython"
   ]
  },
  {
   "cell_type": "code",
   "execution_count": null,
   "metadata": {},
   "outputs": [],
   "source": [
    "# %%R\n",
    "# install.packages(\"BiocManager\")"
   ]
  },
  {
   "cell_type": "code",
   "execution_count": null,
   "metadata": {},
   "outputs": [],
   "source": [
    "# %%R\n",
    "# BiocManager::install(\"splatter\")"
   ]
  },
  {
   "cell_type": "markdown",
   "metadata": {},
   "source": [
    "# Generate Data"
   ]
  },
  {
   "cell_type": "code",
   "execution_count": 4,
   "metadata": {
    "collapsed": true
   },
   "outputs": [
    {
     "name": "stderr",
     "output_type": "stream",
     "text": [
      "R[write to console]: Loading required package: SingleCellExperiment\n",
      "\n",
      "R[write to console]: Loading required package: SummarizedExperiment\n",
      "\n",
      "R[write to console]: Loading required package: GenomicRanges\n",
      "\n",
      "R[write to console]: Loading required package: stats4\n",
      "\n",
      "R[write to console]: Loading required package: BiocGenerics\n",
      "\n",
      "R[write to console]: Loading required package: parallel\n",
      "\n",
      "R[write to console]: \n",
      "Attaching package: ‘BiocGenerics’\n",
      "\n",
      "\n",
      "R[write to console]: The following objects are masked from ‘package:parallel’:\n",
      "\n",
      "    clusterApply, clusterApplyLB, clusterCall, clusterEvalQ,\n",
      "    clusterExport, clusterMap, parApply, parCapply, parLapply,\n",
      "    parLapplyLB, parRapply, parSapply, parSapplyLB\n",
      "\n",
      "\n",
      "R[write to console]: The following objects are masked from ‘package:stats’:\n",
      "\n",
      "    IQR, mad, sd, var, xtabs\n",
      "\n",
      "\n",
      "R[write to console]: The following objects are masked from ‘package:base’:\n",
      "\n",
      "    Filter, Find, Map, Position, Reduce, anyDuplicated, append,\n",
      "    as.data.frame, basename, cbind, colnames, dirname, do.call,\n",
      "    duplicated, eval, evalq, get, grep, grepl, intersect, is.unsorted,\n",
      "    lapply, mapply, match, mget, order, paste, pmax, pmax.int, pmin,\n",
      "    pmin.int, rank, rbind, rownames, sapply, setdiff, sort, table,\n",
      "    tapply, union, unique, unsplit, which, which.max, which.min\n",
      "\n",
      "\n",
      "R[write to console]: Loading required package: S4Vectors\n",
      "\n",
      "R[write to console]: \n",
      "Attaching package: ‘S4Vectors’\n",
      "\n",
      "\n",
      "R[write to console]: The following object is masked from ‘package:base’:\n",
      "\n",
      "    expand.grid\n",
      "\n",
      "\n",
      "R[write to console]: Loading required package: IRanges\n",
      "\n",
      "R[write to console]: Loading required package: GenomeInfoDb\n",
      "\n",
      "R[write to console]: Loading required package: Biobase\n",
      "\n",
      "R[write to console]: Welcome to Bioconductor\n",
      "\n",
      "    Vignettes contain introductory material; view with\n",
      "    'browseVignettes()'. To cite Bioconductor, see\n",
      "    'citation(\"Biobase\")', and for packages 'citation(\"pkgname\")'.\n",
      "\n",
      "\n",
      "R[write to console]: Loading required package: DelayedArray\n",
      "\n",
      "R[write to console]: Loading required package: matrixStats\n",
      "\n",
      "R[write to console]: \n",
      "Attaching package: ‘matrixStats’\n",
      "\n",
      "\n",
      "R[write to console]: The following objects are masked from ‘package:Biobase’:\n",
      "\n",
      "    anyMissing, rowMedians\n",
      "\n",
      "\n",
      "R[write to console]: Loading required package: BiocParallel\n",
      "\n",
      "R[write to console]: \n",
      "Attaching package: ‘DelayedArray’\n",
      "\n",
      "\n",
      "R[write to console]: The following objects are masked from ‘package:matrixStats’:\n",
      "\n",
      "    colMaxs, colMins, colRanges, rowMaxs, rowMins, rowRanges\n",
      "\n",
      "\n",
      "R[write to console]: The following objects are masked from ‘package:base’:\n",
      "\n",
      "    aperm, apply, rowsum\n",
      "\n",
      "\n",
      "R[write to console]: Getting parameters...\n",
      "\n",
      "R[write to console]: Creating simulation object...\n",
      "\n",
      "R[write to console]: Simulating library sizes...\n",
      "\n",
      "R[write to console]: Simulating gene means...\n",
      "\n",
      "R[write to console]: Simulating group DE...\n",
      "\n",
      "R[write to console]: Simulating cell means...\n",
      "\n",
      "R[write to console]: Simulating BCV...\n",
      "\n",
      "R[write to console]: Simulating counts...\n",
      "\n",
      "R[write to console]: Simulating dropout (if needed)...\n",
      "\n",
      "R[write to console]: Done!\n",
      "\n"
     ]
    }
   ],
   "source": [
    "%%R -o counts -o truecounts -o geneinfo -o cellinfo -o dropout\n",
    "\n",
    "# make sure that splatter is installed: https://github.com/Oshlack/splatter\n",
    "library(splatter)\n",
    "\n",
    "simulate <- function(nGroups=2, nGenes=200, batchCells=2000, dropout=5)\n",
    "{\n",
    "    if (nGroups > 1) method <- 'groups'\n",
    "    else             method <- 'single'\n",
    "\n",
    "    group.prob <- rep(1, nGroups) / nGroups\n",
    "\n",
    "    # new splatter requires dropout.type\n",
    "    if ('dropout.type' %in% slotNames(newSplatParams())) {\n",
    "        if (dropout)\n",
    "            dropout.type <- 'experiment'\n",
    "        else\n",
    "            dropout.type <- 'none'\n",
    "        \n",
    "        sim <- splatSimulate(group.prob=group.prob, nGenes=nGenes, batchCells=batchCells,\n",
    "                             dropout.type=dropout.type, method=method,\n",
    "                             seed=42, dropout.shape=-1, dropout.mid=dropout)\n",
    "\n",
    "    } else {\n",
    "        sim <- splatSimulate(group.prob=group.prob, nGenes=nGenes, batchCells=batchCells,\n",
    "                             dropout.present=!dropout, method=method,\n",
    "                             seed=42, dropout.shape=-1, dropout.mid=dropout)        \n",
    "    }\n",
    "\n",
    "    counts     <- as.data.frame(t(counts(sim)))\n",
    "    truecounts <- as.data.frame(t(assays(sim)$TrueCounts))\n",
    "\n",
    "    dropout    <- assays(sim)$Dropout\n",
    "    mode(dropout) <- 'integer'\n",
    "    dropout    <- as.data.frame(t(dropout))\n",
    "\n",
    "    cellinfo   <- as.data.frame(colData(sim))\n",
    "    geneinfo   <- as.data.frame(rowData(sim))\n",
    "\n",
    "    list(counts=counts,\n",
    "         cellinfo=cellinfo,\n",
    "         geneinfo=geneinfo,\n",
    "         truecounts=truecounts,\n",
    "         dropout=dropout)\n",
    "}\n",
    "\n",
    "sim <- simulate()\n",
    "\n",
    "counts <- sim$counts\n",
    "geneinfo <- sim$geneinfo\n",
    "cellinfo <- sim$cellinfo\n",
    "truecounts <- sim$truecounts\n",
    "dropout <- sim$dropout"
   ]
  },
  {
   "cell_type": "code",
   "execution_count": 10,
   "metadata": {},
   "outputs": [],
   "source": [
    "import pickle\n",
    "\n",
    "with open('simtrue2.pickle', 'wb') as handle:\n",
    "    pickle.dump(sim_true, handle, protocol=pickle.HIGHEST_PROTOCOL)"
   ]
  }
 ],
 "metadata": {
  "kernelspec": {
   "display_name": "Python 3",
   "language": "python",
   "name": "python3"
  },
  "language_info": {
   "codemirror_mode": {
    "name": "ipython",
    "version": 3
   },
   "file_extension": ".py",
   "mimetype": "text/x-python",
   "name": "python",
   "nbconvert_exporter": "python",
   "pygments_lexer": "ipython3",
   "version": "3.7.6"
  },
  "varInspector": {
   "cols": {
    "lenName": 16,
    "lenType": 16,
    "lenVar": 40
   },
   "kernels_config": {
    "python": {
     "delete_cmd_postfix": "",
     "delete_cmd_prefix": "del ",
     "library": "var_list.py",
     "varRefreshCmd": "print(var_dic_list())"
    },
    "r": {
     "delete_cmd_postfix": ") ",
     "delete_cmd_prefix": "rm(",
     "library": "var_list.r",
     "varRefreshCmd": "cat(var_dic_list()) "
    }
   },
   "types_to_exclude": [
    "module",
    "function",
    "builtin_function_or_method",
    "instance",
    "_Feature"
   ],
   "window_display": false
  }
 },
 "nbformat": 4,
 "nbformat_minor": 4
}
